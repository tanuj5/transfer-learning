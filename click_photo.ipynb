{
 "cells": [
  {
   "cell_type": "code",
   "execution_count": null,
   "metadata": {},
   "outputs": [],
   "source": [
    "import cv2\n",
    "import numpy as np\n",
    "cap = cv2.VideoCapture(0)\n",
    "count = 0\n",
    "while count<200:\n",
    "    ret, frame = cap.read()\n",
    "    count += 1\n",
    "    key = cv2.waitKey(10)\n",
    "    #face = cv2.resize(face_extractor(frame), (400,400))\n",
    "    file_name_path = 'C:/Users/Tanuj/Desktop/practical mlops/transfer learning/Adv CNN/Transfer Learning _ Fine Tuning/tanuj/tanuj/train/n3/'+ str(count) + '.jpg'\n",
    "    cv2.imwrite(file_name_path, frame)\n",
    "    cv2.imshow('Face Cropper', frame)\n",
    "    if cv2.waitKey(1) == 13:\n",
    "            cv2.destroyAllWindows()\n",
    "            webcam.release()\n",
    "            break\n",
    "cap.release()\n",
    "cv2.destroyAllWindows()"
   ]
  },
  {
   "cell_type": "code",
   "execution_count": null,
   "metadata": {},
   "outputs": [],
   "source": []
  },
  {
   "cell_type": "code",
   "execution_count": null,
   "metadata": {},
   "outputs": [],
   "source": []
  },
  {
   "cell_type": "code",
   "execution_count": null,
   "metadata": {},
   "outputs": [],
   "source": []
  }
 ],
 "metadata": {
  "kernelspec": {
   "display_name": "Python 3",
   "language": "python",
   "name": "python3"
  },
  "language_info": {
   "codemirror_mode": {
    "name": "ipython",
    "version": 3
   },
   "file_extension": ".py",
   "mimetype": "text/x-python",
   "name": "python",
   "nbconvert_exporter": "python",
   "pygments_lexer": "ipython3",
   "version": "3.7.3"
  }
 },
 "nbformat": 4,
 "nbformat_minor": 4
}
